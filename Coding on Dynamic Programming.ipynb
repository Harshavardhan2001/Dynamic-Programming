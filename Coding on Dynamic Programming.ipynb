{
 "cells": [
  {
   "cell_type": "markdown",
   "metadata": {},
   "source": [
    "# Longest Common Subsequence (LCS)"
   ]
  },
  {
   "cell_type": "code",
   "execution_count": 1,
   "metadata": {},
   "outputs": [
    {
     "name": "stdout",
     "output_type": "stream",
     "text": [
      "ABCD\n",
      "ABGYD\n",
      "3\n"
     ]
    }
   ],
   "source": [
    "lst=[]\n",
    "def lcs(s1,s2,m,n):\n",
    "    if m==0 or n==0:\n",
    "        return 0\n",
    "    else:\n",
    "        if s1[m-1]==s2[n-1]:\n",
    "            lst.append(s1[m-1])\n",
    "            return 1+lcs(s1,s2,m-1,n-1)\n",
    "        else:\n",
    "            return max(lcs(s1,s2,m-1,n),lcs(s1,s2,m,n-1))\n",
    "\n",
    "s1=input()\n",
    "s2=input()\n",
    "m=len(s1)\n",
    "n=len(s2)\n",
    "print(lcs(s1,s2,m,n))"
   ]
  },
  {
   "cell_type": "markdown",
   "metadata": {},
   "source": [
    "### Tabulation"
   ]
  },
  {
   "cell_type": "code",
   "execution_count": 2,
   "metadata": {},
   "outputs": [
    {
     "name": "stdout",
     "output_type": "stream",
     "text": [
      "ABCG\n",
      "BCXFTG\n",
      "['B', 'C', 'G']\n",
      "3\n"
     ]
    }
   ],
   "source": [
    "def print_sequence(s1,s2,m,n):\n",
    "    if m==0 or n==0:\n",
    "        return lst[::-1]\n",
    "    i=m\n",
    "    j=n\n",
    "    if s1[i-1]==s2[j-1]:\n",
    "        lst.append(s1[i-1])\n",
    "        print_sequence(s1,s2,m-1,n-1)\n",
    "    else:\n",
    "        if table[i-1][j]>=table[i][j-1]:\n",
    "            print_sequence(s1,s2,m-1,n)\n",
    "        else:\n",
    "            print_sequence(s1,s2,m,n-1)\n",
    "            \n",
    "    return lst[::-1]\n",
    "\n",
    "def lcs_tabulation(s1,s2,m,n):\n",
    "    \n",
    "    try:\n",
    "        for i in range(1,m+1):\n",
    "            for j in range(1,n+1):\n",
    "                if s1[i-1]==s2[j-1]:\n",
    "                    table[i][j]=table[i-1][j-1]+1\n",
    "                else:\n",
    "                    table[i][j]=max(table[i-1][j],table[i][j-1])\n",
    "    except:\n",
    "        pass\n",
    "                    \n",
    "    sequence=print_sequence(s1,s2,m,n)\n",
    "    print(sequence)\n",
    "    \n",
    "    return table[m][n]\n",
    "\n",
    "s1=input()\n",
    "s2=input()\n",
    "m=len(s1)\n",
    "n=len(s2)\n",
    "\n",
    "table=[]\n",
    "for i in range(m+1):\n",
    "    l=[0]*(n+1)\n",
    "    table.append(l)\n",
    "    \n",
    "## table[m+1][n+1] is created\n",
    "lst=[]\n",
    "\n",
    "print(lcs_tabulation(s1,s2,m,n))"
   ]
  },
  {
   "cell_type": "markdown",
   "metadata": {},
   "source": [
    "### 1) Diff Utility\n",
    "### 2) Min del and insertions to convert s1 to s2   ...   m-l del, n-l adds\n",
    "### 3) Shortest Common Supersequence    ...    m+n-lcs_length\n",
    "### 4) Longest Palindromic subsequence   ...    s1,s2(reverse of s1)\n",
    "### 5) Longest Repeating Subsequence  ...  change is index also dont match along with character\n",
    "### 6) Printing LCS"
   ]
  },
  {
   "cell_type": "markdown",
   "metadata": {},
   "source": [
    "# Longest Repeating Subsequence"
   ]
  },
  {
   "cell_type": "code",
   "execution_count": 3,
   "metadata": {},
   "outputs": [
    {
     "name": "stdout",
     "output_type": "stream",
     "text": [
      "GEEKSFORGEEKS\n",
      "5\n"
     ]
    }
   ],
   "source": [
    "def lcs_repeating(s1,s2,m,n):\n",
    "    if m==0 or n==0:\n",
    "        return 0\n",
    "    else:\n",
    "        if s1[m-1]==s2[n-1] and m-1!=n-1:\n",
    "            return 1+lcs_repeating(s1,s2,m-1,n-1)\n",
    "        else:\n",
    "            return max(lcs_repeating(s1,s2,m-1,n),lcs_repeating(s1,s2,m,n-1))\n",
    "\n",
    "        \n",
    "s1=input()\n",
    "s2=\"\"\n",
    "m=len(s1)\n",
    "\n",
    "for i in s1:\n",
    "    s2+=i\n",
    "    \n",
    "n=len(s2)\n",
    "\n",
    "print(lcs_repeating(s1,s2,m,n))"
   ]
  },
  {
   "cell_type": "markdown",
   "metadata": {},
   "source": [
    "# Coin change sum combinations"
   ]
  },
  {
   "cell_type": "code",
   "execution_count": 4,
   "metadata": {},
   "outputs": [
    {
     "name": "stdout",
     "output_type": "stream",
     "text": [
      "1 3 5 6 2\n",
      "13\n",
      "45\n"
     ]
    }
   ],
   "source": [
    "def coins_combinations(coins,sum_val):\n",
    "    \n",
    "    # sum x n (coins)\n",
    "    table=[]\n",
    "    for i in range(sum_val+1):\n",
    "        l=[0]*(len(coins)+1)\n",
    "        table.append(l)\n",
    "        \n",
    "    # if sum=0 then always 1 way\n",
    "    table[0]=[1]*(len(coins)+1)\n",
    "    \n",
    "    for i in range(1,sum_val+1):\n",
    "        for j in range(1,len(coins)+1):\n",
    "            table[i][j]=table[i][j-1]\n",
    "            if coins[j-1]<=i:\n",
    "                table[i][j]+=table[i-coins[j-1]][j]\n",
    "                \n",
    "    print(table[sum_val][len(coins)])\n",
    "    \n",
    "    \n",
    "\n",
    "coins=list(map(int,input().split()))\n",
    "sum_val=int(input())\n",
    "\n",
    "coins_combinations(coins,sum_val)"
   ]
  },
  {
   "cell_type": "markdown",
   "metadata": {},
   "source": [
    "# Edit Distance\n",
    "\n",
    "### s1= CAT s2=CUT\n",
    "### o/p: 1"
   ]
  },
  {
   "cell_type": "code",
   "execution_count": 5,
   "metadata": {},
   "outputs": [
    {
     "name": "stdout",
     "output_type": "stream",
     "text": [
      "harsha\n",
      "harin\n",
      "3\n"
     ]
    }
   ],
   "source": [
    "dict_val={}\n",
    "\n",
    "def edit_distance(s1,s2,m,n):\n",
    "    if (m,n) in dict_val:\n",
    "        return dict_val[m,n]\n",
    "    if m==0:\n",
    "        dict_val[m,n]=n\n",
    "        return n\n",
    "    if n==0:\n",
    "        dict_val[m,n]=m\n",
    "        return m\n",
    "    if s1[m-1]==s2[n-1]:\n",
    "        val=edit_distance(s1,s2,m-1,n-1)\n",
    "        dict_val[m,n]=val\n",
    "        return val\n",
    "    else:\n",
    "        # get minimum value of either insert or delete or replace\n",
    "        a=edit_distance(s1,s2,m,n-1)\n",
    "        b=edit_distance(s1,s2,m-1,n)\n",
    "        max_val=min(a,b)\n",
    "        c=edit_distance(s1,s2,m-1,n-1)\n",
    "        val=1+min(max_val,c)\n",
    "        dict_val[m,n]=val\n",
    "        return val\n",
    "        \n",
    "s1=input()\n",
    "s2=input()\n",
    "m=len(s1)\n",
    "n=len(s2)\n",
    "\n",
    "print(edit_distance(s1,s2,m,n))"
   ]
  },
  {
   "cell_type": "markdown",
   "metadata": {},
   "source": [
    "# Longest Increasing subsequence"
   ]
  },
  {
   "cell_type": "code",
   "execution_count": 6,
   "metadata": {},
   "outputs": [
    {
     "data": {
      "text/plain": [
       "[1, 2, 2, 2, 3]"
      ]
     },
     "execution_count": 6,
     "metadata": {},
     "output_type": "execute_result"
    }
   ],
   "source": [
    "lst=[3,14,12,8,10]\n",
    "\n",
    "lis=[]\n",
    "lis.append(1)\n",
    "\n",
    "for i in range(1,len(lst)):\n",
    "    max_val=1\n",
    "    for j in range(i):\n",
    "        if lst[j]<lst[i]:\n",
    "            max_val=max(max_val,lis[j]+1)\n",
    "    lis.append(max_val)\n",
    "        \n",
    "lis"
   ]
  },
  {
   "cell_type": "markdown",
   "metadata": {},
   "source": [
    "### 1) Min deletions to make array sorted  ...  n-lis\n",
    "### 2) Max sum increasing subsequence\n",
    "### 3) Max length bitonic subsequence ...  compute lis from font and from back then add arrays and reduce from all then maximum value is result"
   ]
  },
  {
   "cell_type": "markdown",
   "metadata": {},
   "source": [
    "# Max Sum Increasing Subsequence"
   ]
  },
  {
   "cell_type": "code",
   "execution_count": 7,
   "metadata": {},
   "outputs": [
    {
     "data": {
      "text/plain": [
       "[3, 17, 15, 11, 21]"
      ]
     },
     "execution_count": 7,
     "metadata": {},
     "output_type": "execute_result"
    }
   ],
   "source": [
    "lst=[3,14,12,8,10]\n",
    "\n",
    "lsis=[]\n",
    "lsis.append(lst[0])\n",
    "\n",
    "for i in range(1,len(lst)):\n",
    "    max_val=lst[i]\n",
    "    for j in range(i):\n",
    "        if lst[j]<lst[i]:\n",
    "            max_val=max(max_val,lsis[j]+lst[i])\n",
    "    lsis.append(max_val)\n",
    "        \n",
    "lsis"
   ]
  },
  {
   "cell_type": "markdown",
   "metadata": {},
   "source": [
    "# Building Bridges"
   ]
  },
  {
   "cell_type": "code",
   "execution_count": 8,
   "metadata": {},
   "outputs": [
    {
     "data": {
      "text/plain": [
       "3"
      ]
     },
     "execution_count": 8,
     "metadata": {},
     "output_type": "execute_result"
    }
   ],
   "source": [
    "lst=[[6,2],[4,3],[2,6],[1,5],[1,3]]\n",
    "\n",
    "## sort this based on first value and then by second value\n",
    "\n",
    "lst.sort(key=lambda x:(x[0],x[1]))\n",
    "\n",
    "## consider second values and compute lis\n",
    "\n",
    "lis=[]\n",
    "lis.append(1)\n",
    "for i in range(1,len(lst)):\n",
    "    max_val=1\n",
    "    for j in range(i):\n",
    "        if lst[j][1]<lst[i][1]:\n",
    "            max_val=max(max_val,lis[j]+1)\n",
    "    lis.append(max_val)\n",
    "    \n",
    "max(lis)"
   ]
  },
  {
   "cell_type": "markdown",
   "metadata": {},
   "source": [
    "# Longest Chain of Pairs  similar to Activity selection Problem\n",
    "\n",
    "\n",
    "### (a,b) and (c,d)  form a chain such that b < c\n",
    "\n",
    "### It is always a<b and c<d"
   ]
  },
  {
   "cell_type": "code",
   "execution_count": 9,
   "metadata": {},
   "outputs": [
    {
     "name": "stdout",
     "output_type": "stream",
     "text": [
      "3\n"
     ]
    }
   ],
   "source": [
    "lst=[[5,24],[39,60],[15,28],[27,40],[50,90]]\n",
    "\n",
    "# sort list based on second value\n",
    "\n",
    "lst.sort(key=lambda x:(x[1]))\n",
    "\n",
    "count=1\n",
    "end_time=lst[0][1]\n",
    "for i in range(1,len(lst)):\n",
    "    if lst[i][0]>=end_time:\n",
    "        count+=1\n",
    "        end_time=lst[i][1]\n",
    "        \n",
    "print(count)"
   ]
  },
  {
   "cell_type": "markdown",
   "metadata": {},
   "source": [
    "# Maximum Cuts"
   ]
  },
  {
   "cell_type": "code",
   "execution_count": 10,
   "metadata": {},
   "outputs": [
    {
     "name": "stdout",
     "output_type": "stream",
     "text": [
      "6\n",
      "2\n",
      "3\n",
      "4\n",
      "3\n"
     ]
    }
   ],
   "source": [
    "def maximum_cuts(n,a,b,c):\n",
    "    if n<0:\n",
    "        return -1\n",
    "    if n==0:\n",
    "        return 0\n",
    "    a1=maximum_cuts(n-a,a,b,c)\n",
    "    b1=maximum_cuts(n-b,a,b,c)\n",
    "    max_val=max(a1,b1)\n",
    "    c1=maximum_cuts(n-c,a,b,c)\n",
    "    res=max(max_val,c1)\n",
    "        \n",
    "        \n",
    "    if res==-1:\n",
    "        return res\n",
    "    else:\n",
    "        return res+1\n",
    "        \n",
    "n=int(input())\n",
    "a=int(input())\n",
    "b=int(input())\n",
    "c=int(input())\n",
    "\n",
    "print(maximum_cuts(n,a,b,c))"
   ]
  },
  {
   "cell_type": "markdown",
   "metadata": {},
   "source": [
    "# Minimum coins to make sum"
   ]
  },
  {
   "cell_type": "code",
   "execution_count": 11,
   "metadata": {},
   "outputs": [
    {
     "name": "stdout",
     "output_type": "stream",
     "text": [
      "1 4 6 8 9\n",
      "12\n",
      "2\n"
     ]
    }
   ],
   "source": [
    "def min_coins_sum(coins,sum_val):\n",
    "    if sum_val<0:\n",
    "        print(\"Error\")\n",
    "    if sum_val==0:\n",
    "        return 0\n",
    "    \n",
    "    res=10**10\n",
    "    \n",
    "    for i in range(len(coins)):\n",
    "        sub_res=0\n",
    "        if coins[i]<=sum_val:\n",
    "            sub_res=min_coins_sum(coins,sum_val-coins[i])\n",
    "            \n",
    "        if sub_res!=10**10:\n",
    "            res=min(res,sub_res+1)\n",
    "            \n",
    "    return res\n",
    "\n",
    "coins=list(map(int,input().split()))\n",
    "sum_val=int(input())\n",
    "\n",
    "print(min_coins_sum(coins,sum_val))"
   ]
  },
  {
   "cell_type": "markdown",
   "metadata": {},
   "source": [
    "# Minimum Jumps to reach end ****"
   ]
  },
  {
   "cell_type": "code",
   "execution_count": 12,
   "metadata": {},
   "outputs": [
    {
     "name": "stdout",
     "output_type": "stream",
     "text": [
      "[1, 1, 1, 1, 1, 1, 1, 1, 1, 1, 1, 1]\n",
      "11\n"
     ]
    }
   ],
   "source": [
    "lst=[1, 1, 1, 1, 1, 1, 1, 1, 1, 1, 1]\n",
    "\n",
    "curr_ele=lst[0]\n",
    "max_ele=lst[0]\n",
    "elements=[]\n",
    "elements.append(curr_ele)\n",
    "\n",
    "i=0\n",
    "while i<len(lst)-1: \n",
    "    max_ele=max(lst[i+1:i+max_ele+1])\n",
    "    elements.append(max_ele)\n",
    "    ind_from_back=i+max_ele-(lst[i+1:i+max_ele+1][::-1].index(max_ele))\n",
    "    curr_ele+=max_val\n",
    "    i=ind_from_back\n",
    "    \n",
    "elements.append(max_ele)\n",
    "\n",
    "print(elements)\n",
    "\n",
    "print(len(elements)-1)"
   ]
  },
  {
   "cell_type": "markdown",
   "metadata": {},
   "source": [
    "# Minimum Jumps to reach end Efficient way"
   ]
  },
  {
   "cell_type": "code",
   "execution_count": 13,
   "metadata": {},
   "outputs": [
    {
     "data": {
      "text/plain": [
       "[0, 1, 2, 3, 4, 5, 6, 7, 8, 9, 10]"
      ]
     },
     "execution_count": 13,
     "metadata": {},
     "output_type": "execute_result"
    }
   ],
   "source": [
    "lst=[1, 1, 1, 1, 1, 1, 1, 1, 1, 1, 1]\n",
    "\n",
    "table=[10**6]*len(lst)\n",
    "table[0]=0\n",
    "\n",
    "for i in range(1,len(lst)):\n",
    "    min_val=10**6\n",
    "    for j in range(i):\n",
    "        if lst[j]+j>=i:\n",
    "            if table[j]!=10**6:\n",
    "                min_val=min(min_val,table[j]+1)\n",
    "    table[i]=min_val\n",
    "    \n",
    "table"
   ]
  },
  {
   "cell_type": "code",
   "execution_count": 14,
   "metadata": {},
   "outputs": [
    {
     "data": {
      "text/plain": [
       "10"
      ]
     },
     "execution_count": 14,
     "metadata": {},
     "output_type": "execute_result"
    }
   ],
   "source": [
    "table[-1]"
   ]
  },
  {
   "cell_type": "markdown",
   "metadata": {},
   "source": [
    "# Longest Common Substring"
   ]
  },
  {
   "cell_type": "code",
   "execution_count": 15,
   "metadata": {},
   "outputs": [
    {
     "name": "stdout",
     "output_type": "stream",
     "text": [
      "bjhursg\n",
      "bgfhur\n",
      "3\n"
     ]
    }
   ],
   "source": [
    "def long_common_substr(s1,s2,m,n,length):\n",
    "    \n",
    "    if m==0 or n==0:\n",
    "        return length\n",
    "    \n",
    "    if s1[m-1]==s2[n-1]:\n",
    "        length=long_common_substr(s1,s2,m-1,n-1,length+1)\n",
    "        \n",
    "    length=max(length,max(long_common_substr(s1,s2,m,n-1,0),long_common_substr(s1,s2,m-1,n,0)))\n",
    "    \n",
    "    return length\n",
    "    \n",
    "s1=input()\n",
    "s2=input()\n",
    "m=len(s1)\n",
    "n=len(s2)\n",
    "\n",
    "print(long_common_substr(s1,s2,m,n,0))"
   ]
  },
  {
   "cell_type": "markdown",
   "metadata": {},
   "source": [
    "# Smallest Common substring"
   ]
  },
  {
   "cell_type": "code",
   "execution_count": 16,
   "metadata": {},
   "outputs": [
    {
     "name": "stdout",
     "output_type": "stream",
     "text": [
      "dfnh\n",
      "sdb\n",
      "0\n"
     ]
    }
   ],
   "source": [
    "def small_common_substr(s1,s2,m,n,length):\n",
    "    if m==0 or n==0:\n",
    "        return length\n",
    "    if s1[m-1]==s2[n-1]:\n",
    "        return small_common_substr(s1,s2,m-1,n-1,length+1)\n",
    "    else:\n",
    "        return min(small_common_substr(s1,s2,m,n-1,0),small_common_substr(s1,s2,m-1,n,0))\n",
    "    \n",
    "s1=input()\n",
    "s2=input()\n",
    "m=len(s1)\n",
    "n=len(s2)\n",
    "\n",
    "print(small_common_substr(s1,s2,m,n,0))"
   ]
  },
  {
   "cell_type": "markdown",
   "metadata": {},
   "source": [
    "# Longest sum contiguous subarray"
   ]
  },
  {
   "cell_type": "code",
   "execution_count": 17,
   "metadata": {},
   "outputs": [
    {
     "name": "stdout",
     "output_type": "stream",
     "text": [
      "[-3, -2, 4, 3, 1, 2, 7, 4]\n",
      "7\n"
     ]
    }
   ],
   "source": [
    "lst=[-3,-2,4,-1,-2,1,5,-3]\n",
    "\n",
    "long_sum=[]\n",
    "long_sum.append(lst[0])\n",
    "for i in range(1,len(lst)):\n",
    "    large_val=max(lst[i],long_sum[i-1]+lst[i])\n",
    "    long_sum.append(large_val)\n",
    "    \n",
    "print(long_sum)\n",
    "print(max(long_sum))"
   ]
  },
  {
   "cell_type": "code",
   "execution_count": null,
   "metadata": {},
   "outputs": [],
   "source": []
  }
 ],
 "metadata": {
  "kernelspec": {
   "display_name": "Python 3",
   "language": "python",
   "name": "python3"
  },
  "language_info": {
   "codemirror_mode": {
    "name": "ipython",
    "version": 3
   },
   "file_extension": ".py",
   "mimetype": "text/x-python",
   "name": "python",
   "nbconvert_exporter": "python",
   "pygments_lexer": "ipython3",
   "version": "3.8.3"
  }
 },
 "nbformat": 4,
 "nbformat_minor": 4
}
